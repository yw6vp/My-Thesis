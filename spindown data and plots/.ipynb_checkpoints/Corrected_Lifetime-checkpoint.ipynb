{
 "cells": [
  {
   "cell_type": "code",
   "execution_count": 107,
   "metadata": {
    "collapsed": false
   },
   "outputs": [],
   "source": [
    "import pandas as pd\n",
    "import numpy as np\n",
    "import matplotlib.pyplot as plt\n",
    "%matplotlib inline\n",
    "from pandas import DataFrame\n",
    "from pandas import Series\n",
    "from scipy.optimize import curve_fit\n",
    "from scipy.stats import linregress"
   ]
  },
  {
   "cell_type": "code",
   "execution_count": 32,
   "metadata": {
    "collapsed": true
   },
   "outputs": [],
   "source": [
    "def exp_fit(x, a, t):\n",
    "    return a * np.exp(-x / t)"
   ]
  },
  {
   "cell_type": "code",
   "execution_count": 64,
   "metadata": {
    "collapsed": false
   },
   "outputs": [
    {
     "data": {
      "text/html": [
       "<div>\n",
       "<table border=\"1\" class=\"dataframe\">\n",
       "  <thead>\n",
       "    <tr style=\"text-align: right;\">\n",
       "      <th></th>\n",
       "      <th>index</th>\n",
       "      <th>time</th>\n",
       "      <th>signal</th>\n",
       "      <th>T2</th>\n",
       "      <th>freq</th>\n",
       "      <th>phase</th>\n",
       "      <th>offset</th>\n",
       "    </tr>\n",
       "  </thead>\n",
       "  <tbody>\n",
       "    <tr>\n",
       "      <th>0</th>\n",
       "      <td>1.0</td>\n",
       "      <td>0.000000</td>\n",
       "      <td>3.757784</td>\n",
       "      <td>0.216646</td>\n",
       "      <td>29.515241</td>\n",
       "      <td>2.078364</td>\n",
       "      <td>0.002760</td>\n",
       "    </tr>\n",
       "    <tr>\n",
       "      <th>1</th>\n",
       "      <td>2.0</td>\n",
       "      <td>0.335278</td>\n",
       "      <td>3.555387</td>\n",
       "      <td>0.208395</td>\n",
       "      <td>29.121304</td>\n",
       "      <td>3.465809</td>\n",
       "      <td>-0.002901</td>\n",
       "    </tr>\n",
       "    <tr>\n",
       "      <th>2</th>\n",
       "      <td>3.0</td>\n",
       "      <td>0.670278</td>\n",
       "      <td>3.580257</td>\n",
       "      <td>0.210963</td>\n",
       "      <td>31.780713</td>\n",
       "      <td>1.436265</td>\n",
       "      <td>0.004439</td>\n",
       "    </tr>\n",
       "    <tr>\n",
       "      <th>3</th>\n",
       "      <td>4.0</td>\n",
       "      <td>1.005556</td>\n",
       "      <td>3.448856</td>\n",
       "      <td>0.214692</td>\n",
       "      <td>31.578371</td>\n",
       "      <td>1.475036</td>\n",
       "      <td>0.003523</td>\n",
       "    </tr>\n",
       "    <tr>\n",
       "      <th>4</th>\n",
       "      <td>5.0</td>\n",
       "      <td>1.340556</td>\n",
       "      <td>3.260626</td>\n",
       "      <td>0.218368</td>\n",
       "      <td>30.909319</td>\n",
       "      <td>0.823211</td>\n",
       "      <td>-0.009701</td>\n",
       "    </tr>\n",
       "  </tbody>\n",
       "</table>\n",
       "</div>"
      ],
      "text/plain": [
       "   index      time    signal        T2       freq     phase    offset\n",
       "0    1.0  0.000000  3.757784  0.216646  29.515241  2.078364  0.002760\n",
       "1    2.0  0.335278  3.555387  0.208395  29.121304  3.465809 -0.002901\n",
       "2    3.0  0.670278  3.580257  0.210963  31.780713  1.436265  0.004439\n",
       "3    4.0  1.005556  3.448856  0.214692  31.578371  1.475036  0.003523\n",
       "4    5.0  1.340556  3.260626  0.218368  30.909319  0.823211 -0.009701"
      ]
     },
     "execution_count": 64,
     "metadata": {},
     "output_type": "execute_result"
    }
   ],
   "source": [
    "sd_20min = pd.read_csv(\"GoldenVec1/GoldenVec_SpinDown_D10_29_2014_20min.txt\", sep='\\t',\n",
    "                     names=[\"index\",\"time\",'signal','T2','freq','phase','offset'])\n",
    "sd_20min['signal'] = np.abs(sd_20min['signal'])\n",
    "sd_20min.head()"
   ]
  },
  {
   "cell_type": "code",
   "execution_count": 76,
   "metadata": {
    "collapsed": false
   },
   "outputs": [
    {
     "data": {
      "image/png": "[encoded data removed]",
      "text/plain": [
       "<matplotlib.figure.Figure at 0x10d163cd0>"
      ]
     },
     "metadata": {},
     "output_type": "display_data"
    },
    {
     "name": "stdout",
     "output_type": "stream",
     "text": [
      "[ 3.75080913  7.67801012]\n"
     ]
    }
   ],
   "source": [
    "x, y = sd_20min['time'], sd_20min['signal']\n",
    "popt20min, pcov20min = curve_fit(exp_fit, x, y)\n",
    "plot20min = plt.figure()\n",
    "plt.plot(x, y, 'ko', markersize=3, label=\"Original Data\")\n",
    "plt.plot(x, exp_fit(x, *popt20min), 'r-', label=\"Fitted Curve\")\n",
    "plt.legend()\n",
    "plt.show()\n",
    "print popt20min"
   ]
  },
  {
   "cell_type": "code",
   "execution_count": 66,
   "metadata": {
    "collapsed": false
   },
   "outputs": [
    {
     "data": {
      "text/html": [
       "<div>\n",
       "<table border=\"1\" class=\"dataframe\">\n",
       "  <thead>\n",
       "    <tr style=\"text-align: right;\">\n",
       "      <th></th>\n",
       "      <th>index</th>\n",
       "      <th>time</th>\n",
       "      <th>signal</th>\n",
       "      <th>T2</th>\n",
       "      <th>freq</th>\n",
       "      <th>phase</th>\n",
       "      <th>offset</th>\n",
       "    </tr>\n",
       "  </thead>\n",
       "  <tbody>\n",
       "    <tr>\n",
       "      <th>0</th>\n",
       "      <td>1.0</td>\n",
       "      <td>0.000000</td>\n",
       "      <td>4.491958</td>\n",
       "      <td>0.225524</td>\n",
       "      <td>45.202532</td>\n",
       "      <td>0.102360</td>\n",
       "      <td>-0.003156</td>\n",
       "    </tr>\n",
       "    <tr>\n",
       "      <th>1</th>\n",
       "      <td>2.0</td>\n",
       "      <td>0.501667</td>\n",
       "      <td>4.264893</td>\n",
       "      <td>0.221627</td>\n",
       "      <td>44.208982</td>\n",
       "      <td>2.151508</td>\n",
       "      <td>0.000541</td>\n",
       "    </tr>\n",
       "    <tr>\n",
       "      <th>2</th>\n",
       "      <td>3.0</td>\n",
       "      <td>1.003333</td>\n",
       "      <td>3.980194</td>\n",
       "      <td>0.229400</td>\n",
       "      <td>41.387836</td>\n",
       "      <td>2.054231</td>\n",
       "      <td>-0.003421</td>\n",
       "    </tr>\n",
       "    <tr>\n",
       "      <th>3</th>\n",
       "      <td>4.0</td>\n",
       "      <td>1.505000</td>\n",
       "      <td>3.786698</td>\n",
       "      <td>0.226184</td>\n",
       "      <td>42.668063</td>\n",
       "      <td>1.056301</td>\n",
       "      <td>0.005532</td>\n",
       "    </tr>\n",
       "    <tr>\n",
       "      <th>4</th>\n",
       "      <td>5.0</td>\n",
       "      <td>2.006944</td>\n",
       "      <td>3.751841</td>\n",
       "      <td>0.198631</td>\n",
       "      <td>41.576897</td>\n",
       "      <td>-0.639370</td>\n",
       "      <td>-0.015363</td>\n",
       "    </tr>\n",
       "  </tbody>\n",
       "</table>\n",
       "</div>"
      ],
      "text/plain": [
       "   index      time    signal        T2       freq     phase    offset\n",
       "0    1.0  0.000000  4.491958  0.225524  45.202532  0.102360 -0.003156\n",
       "1    2.0  0.501667  4.264893  0.221627  44.208982  2.151508  0.000541\n",
       "2    3.0  1.003333  3.980194  0.229400  41.387836  2.054231 -0.003421\n",
       "3    4.0  1.505000  3.786698  0.226184  42.668063  1.056301  0.005532\n",
       "4    5.0  2.006944  3.751841  0.198631  41.576897 -0.639370 -0.015363"
      ]
     },
     "execution_count": 66,
     "metadata": {},
     "output_type": "execute_result"
    }
   ],
   "source": [
    "sd_30min = pd.read_csv(\"GoldenVec1/GoldenVec_SpinDown_D10_25_2014_30min.txt\", sep='\\t',\n",
    "                     names=[\"index\",\"time\",'signal','T2','freq','phase','offset'])\n",
    "sd_30min['signal'] = np.abs(sd_30min['signal'])\n",
    "sd_30min.head()"
   ]
  },
  {
   "cell_type": "code",
   "execution_count": 77,
   "metadata": {
    "collapsed": false
   },
   "outputs": [
    {
     "data": {
      "image/png": "[encoded data removed]",
      "text/plain": [
       "<matplotlib.figure.Figure at 0x10ca32150>"
      ]
     },
     "metadata": {},
     "output_type": "display_data"
    },
    {
     "name": "stdout",
     "output_type": "stream",
     "text": [
      "[ 4.50804569  9.79363175]\n"
     ]
    }
   ],
   "source": [
    "x, y = sd_30min['time'], sd_30min['signal']\n",
    "popt30min, pcov30min = curve_fit(exp_fit, x, y)\n",
    "plot30min = plt.figure()\n",
    "plt.plot(x, y, 'ko', markersize=3, label=\"Original Data\")\n",
    "plt.plot(x, exp_fit(x, *popt30min), 'r-', label=\"Fitted Curve\")\n",
    "plt.legend()\n",
    "plt.show()\n",
    "print popt30min"
   ]
  },
  {
   "cell_type": "code",
   "execution_count": 87,
   "metadata": {
    "collapsed": false
   },
   "outputs": [
    {
     "data": {
      "text/html": [
       "<div>\n",
       "<table border=\"1\" class=\"dataframe\">\n",
       "  <thead>\n",
       "    <tr style=\"text-align: right;\">\n",
       "      <th></th>\n",
       "      <th>index</th>\n",
       "      <th>time</th>\n",
       "      <th>signal</th>\n",
       "      <th>T2</th>\n",
       "      <th>freq</th>\n",
       "      <th>phase</th>\n",
       "      <th>offset</th>\n",
       "    </tr>\n",
       "  </thead>\n",
       "  <tbody>\n",
       "    <tr>\n",
       "      <th>0</th>\n",
       "      <td>1.0</td>\n",
       "      <td>1.0</td>\n",
       "      <td>4.273822</td>\n",
       "      <td>0.212832</td>\n",
       "      <td>56.791415</td>\n",
       "      <td>0.642915</td>\n",
       "      <td>-0.008759</td>\n",
       "    </tr>\n",
       "    <tr>\n",
       "      <th>1</th>\n",
       "      <td>2.0</td>\n",
       "      <td>2.0</td>\n",
       "      <td>4.175580</td>\n",
       "      <td>0.200447</td>\n",
       "      <td>55.701641</td>\n",
       "      <td>0.804408</td>\n",
       "      <td>-0.014213</td>\n",
       "    </tr>\n",
       "    <tr>\n",
       "      <th>2</th>\n",
       "      <td>3.0</td>\n",
       "      <td>3.0</td>\n",
       "      <td>4.015831</td>\n",
       "      <td>0.195167</td>\n",
       "      <td>53.824543</td>\n",
       "      <td>1.224516</td>\n",
       "      <td>-0.004386</td>\n",
       "    </tr>\n",
       "    <tr>\n",
       "      <th>3</th>\n",
       "      <td>4.0</td>\n",
       "      <td>4.0</td>\n",
       "      <td>3.513730</td>\n",
       "      <td>0.210282</td>\n",
       "      <td>49.001373</td>\n",
       "      <td>2.933556</td>\n",
       "      <td>-0.000174</td>\n",
       "    </tr>\n",
       "    <tr>\n",
       "      <th>4</th>\n",
       "      <td>5.0</td>\n",
       "      <td>5.0</td>\n",
       "      <td>3.327964</td>\n",
       "      <td>0.210206</td>\n",
       "      <td>52.273419</td>\n",
       "      <td>1.046317</td>\n",
       "      <td>-0.005480</td>\n",
       "    </tr>\n",
       "  </tbody>\n",
       "</table>\n",
       "</div>"
      ],
      "text/plain": [
       "   index  time    signal        T2       freq     phase    offset\n",
       "0    1.0   1.0  4.273822  0.212832  56.791415  0.642915 -0.008759\n",
       "1    2.0   2.0  4.175580  0.200447  55.701641  0.804408 -0.014213\n",
       "2    3.0   3.0  4.015831  0.195167  53.824543  1.224516 -0.004386\n",
       "3    4.0   4.0  3.513730  0.210282  49.001373  2.933556 -0.000174\n",
       "4    5.0   5.0  3.327964  0.210206  52.273419  1.046317 -0.005480"
      ]
     },
     "execution_count": 87,
     "metadata": {},
     "output_type": "execute_result"
    }
   ],
   "source": [
    "sd_1hr = pd.read_csv(\"GoldenVec1/GoldenVec_SpinDown_D10_22_2014_1hr.txt\", sep='\\t',\n",
    "                     names=[\"index\",\"time\",'signal','T2','freq','phase','offset'])\n",
    "sd_1hr['signal'] = np.abs(sd_1hr['signal'])\n",
    "sd_1hr['time'] = sd_1hr['index']\n",
    "sd_1hr.head()"
   ]
  },
  {
   "cell_type": "code",
   "execution_count": 88,
   "metadata": {
    "collapsed": false
   },
   "outputs": [
    {
     "data": {
      "image/png": "[encoded data removed]",
      "text/plain": [
       "<matplotlib.figure.Figure at 0x10e125150>"
      ]
     },
     "metadata": {},
     "output_type": "display_data"
    },
    {
     "name": "stdout",
     "output_type": "stream",
     "text": [
      "[  5.03395436  11.07905495]\n"
     ]
    }
   ],
   "source": [
    "x, y = sd_1hr['time'], sd_1hr['signal']\n",
    "popt1hr, pcov1hr = curve_fit(exp_fit, x, y)\n",
    "plot1hr = plt.figure()\n",
    "plt.plot(x, y, 'ko', markersize=3, label=\"Original Data\")\n",
    "plt.plot(x, exp_fit(x, *popt1hr), 'r-', label=\"Fitted Curve\")\n",
    "plt.legend()\n",
    "plt.show()\n",
    "print popt1hr"
   ]
  },
  {
   "cell_type": "code",
   "execution_count": 74,
   "metadata": {
    "collapsed": false
   },
   "outputs": [
    {
     "data": {
      "text/html": [
       "<div>\n",
       "<table border=\"1\" class=\"dataframe\">\n",
       "  <thead>\n",
       "    <tr style=\"text-align: right;\">\n",
       "      <th></th>\n",
       "      <th>index</th>\n",
       "      <th>time</th>\n",
       "      <th>signal</th>\n",
       "      <th>T2</th>\n",
       "      <th>freq</th>\n",
       "      <th>phase</th>\n",
       "      <th>offset</th>\n",
       "    </tr>\n",
       "  </thead>\n",
       "  <tbody>\n",
       "    <tr>\n",
       "      <th>0</th>\n",
       "      <td>1.0</td>\n",
       "      <td>0.000000</td>\n",
       "      <td>4.164393</td>\n",
       "      <td>0.165947</td>\n",
       "      <td>42.714154</td>\n",
       "      <td>0.052615</td>\n",
       "      <td>-0.010100</td>\n",
       "    </tr>\n",
       "    <tr>\n",
       "      <th>1</th>\n",
       "      <td>2.0</td>\n",
       "      <td>2.001667</td>\n",
       "      <td>3.299650</td>\n",
       "      <td>0.167442</td>\n",
       "      <td>36.592356</td>\n",
       "      <td>0.249246</td>\n",
       "      <td>-0.008949</td>\n",
       "    </tr>\n",
       "    <tr>\n",
       "      <th>2</th>\n",
       "      <td>3.0</td>\n",
       "      <td>4.003611</td>\n",
       "      <td>2.786972</td>\n",
       "      <td>0.163002</td>\n",
       "      <td>36.242282</td>\n",
       "      <td>1.537045</td>\n",
       "      <td>-0.004646</td>\n",
       "    </tr>\n",
       "    <tr>\n",
       "      <th>3</th>\n",
       "      <td>4.0</td>\n",
       "      <td>6.005556</td>\n",
       "      <td>2.260128</td>\n",
       "      <td>0.167734</td>\n",
       "      <td>34.243345</td>\n",
       "      <td>-0.049608</td>\n",
       "      <td>-0.008808</td>\n",
       "    </tr>\n",
       "    <tr>\n",
       "      <th>4</th>\n",
       "      <td>5.0</td>\n",
       "      <td>8.007222</td>\n",
       "      <td>1.870857</td>\n",
       "      <td>0.165237</td>\n",
       "      <td>32.954205</td>\n",
       "      <td>1.694092</td>\n",
       "      <td>-0.009417</td>\n",
       "    </tr>\n",
       "  </tbody>\n",
       "</table>\n",
       "</div>"
      ],
      "text/plain": [
       "   index      time    signal        T2       freq     phase    offset\n",
       "0    1.0  0.000000  4.164393  0.165947  42.714154  0.052615 -0.010100\n",
       "1    2.0  2.001667  3.299650  0.167442  36.592356  0.249246 -0.008949\n",
       "2    3.0  4.003611  2.786972  0.163002  36.242282  1.537045 -0.004646\n",
       "3    4.0  6.005556  2.260128  0.167734  34.243345 -0.049608 -0.008808\n",
       "4    5.0  8.007222  1.870857  0.165237  32.954205  1.694092 -0.009417"
      ]
     },
     "execution_count": 74,
     "metadata": {},
     "output_type": "execute_result"
    }
   ],
   "source": [
    "# 2hr data shows shorter lifetime than 1hr data, not good!\n",
    "sd_2hr = pd.read_csv(\"GoldenVec1/GoldenVec_SpinDown_D11_12_2014_2hr.txt\", sep='\\t',\n",
    "                     names=[\"index\",\"time\",'signal','T2','freq','phase','offset'])\n",
    "sd_2hr['signal'] = np.abs(sd_2hr['signal'])\n",
    "sd_2hr.head()"
   ]
  },
  {
   "cell_type": "code",
   "execution_count": 75,
   "metadata": {
    "collapsed": false
   },
   "outputs": [
    {
     "data": {
      "image/png": "[encoded data removed]",
      "text/plain": [
       "<matplotlib.figure.Figure at 0x10d21fa10>"
      ]
     },
     "metadata": {},
     "output_type": "display_data"
    },
    {
     "name": "stdout",
     "output_type": "stream",
     "text": [
      "[  4.09444485  10.34506231]\n"
     ]
    }
   ],
   "source": [
    "# 2hr data shows shorter lifetime than 1hr data, not good!\n",
    "x, y = sd_2hr['time'], sd_2hr['signal']\n",
    "popt2hr, pcov2hr = curve_fit(exp_fit, x, y)\n",
    "plt.figure()\n",
    "plt.plot(x, y, 'ko', markersize=3, label=\"Original Data\")\n",
    "plt.plot(x, exp_fit(x, *popt2hr), 'r-', label=\"Fitted Curve\")\n",
    "plt.legend()\n",
    "plt.show()\n",
    "print popt2hr"
   ]
  },
  {
   "cell_type": "code",
   "execution_count": 103,
   "metadata": {
    "collapsed": false
   },
   "outputs": [
    {
     "data": {
      "text/plain": [
       "<matplotlib.text.Text at 0x10f99c550>"
      ]
     },
     "execution_count": 103,
     "metadata": {},
     "output_type": "execute_result"
    },
    {
     "data": {
      "image/png": "[encoded data removed]",
      "text/plain": [
       "<matplotlib.figure.Figure at 0x10f77a150>"
      ]
     },
     "metadata": {},
     "output_type": "display_data"
    }
   ],
   "source": [
    "fig, (ax1,ax2,ax3) = plt.subplots(1,3,figsize=(15,4))\n",
    "ax1.plot(sd_20min['time'], sd_20min['signal'], 'ko', markersize=3, label=\"Original Data\")\n",
    "ax1.plot(sd_20min['time'], exp_fit(sd_20min['time'], *popt20min), 'r-', label=\"Fitted Curve\")\n",
    "ax1.legend()\n",
    "ax1.set_title('20 min Spindown, T1=%.3f hr' % popt20min[1])\n",
    "ax1.set_xlabel('Time (hr)')\n",
    "ax1.set_ylabel('Signal (V)')\n",
    "\n",
    "ax2.plot(sd_30min['time'], sd_30min['signal'], 'ko', markersize=3, label=\"Original Data\")\n",
    "ax2.plot(sd_30min['time'], exp_fit(sd_30min['time'], *popt30min), 'r-', label=\"Fitted Curve\")\n",
    "ax2.legend()\n",
    "ax2.set_title('30 min Spindown, T1=%.3f hr' % popt30min[1])\n",
    "ax2.set_xlabel('Time (hr)')\n",
    "ax2.set_ylabel('Signal (V)')\n",
    "\n",
    "ax3.plot(sd_1hr['time'], sd_1hr['signal'], 'ko', markersize=3, label=\"Original Data\")\n",
    "ax3.plot(sd_1hr['time'], exp_fit(sd_1hr['time'], *popt1hr), 'r-', label=\"Fitted Curve\")\n",
    "ax3.legend()\n",
    "ax3.set_title('1 hr Spindown, T1=%.3f hr' % popt1hr[1])\n",
    "ax3.set_xlabel('Time (hr)')\n",
    "ax3.set_ylabel('Signal (V)')"
   ]
  },
  {
   "cell_type": "code",
   "execution_count": 112,
   "metadata": {
    "collapsed": true
   },
   "outputs": [],
   "source": [
    "def linear_func(x, a, b):\n",
    "    return b * x + a"
   ]
  },
  {
   "cell_type": "code",
   "execution_count": 143,
   "metadata": {
    "collapsed": false
   },
   "outputs": [
    {
     "name": "stdout",
     "output_type": "stream",
     "text": [
      "0.019990836333 0.0675548782613\n",
      "50.022919669 14.8027799877\n"
     ]
    },
    {
     "data": {
      "text/plain": [
       "<matplotlib.text.Text at 0x111717510>"
      ]
     },
     "execution_count": 143,
     "metadata": {},
     "output_type": "execute_result"
    },
    {
     "data": {
      "image/png": "[encoded data removed]",
      "text/plain": [
       "<matplotlib.figure.Figure at 0x1115b9190>"
      ]
     },
     "metadata": {},
     "output_type": "display_data"
    }
   ],
   "source": [
    "lifetimes = np.asarray([popt1hr[1], popt30min[1], popt20min[1]])\n",
    "sampling_rates = np.asarray([1, 2, 3])\n",
    "relaxation_rates = 1./lifetimes\n",
    "slope, intercept, r_value, p_value, std_err = linregress(sampling_rates, relaxation_rates)\n",
    "print slope, intercept\n",
    "\n",
    "x = np.asarray([0, 4])\n",
    "print 1./slope, 1./intercept\n",
    "fig, ax = plt.subplots(1)\n",
    "ax.plot(sampling_rates, relaxation_rates, 'ko', markersize=5, label=\"Data\")\n",
    "ax.plot(x, linear_func(x, intercept, slope), 'r-', label='Fitted Line')\n",
    "ax.legend()\n",
    "ax.set_xlim(0, 4)\n",
    "ax.set_ylim(0, 0.2)\n",
    "ax.set_xlabel('Sampling Rate (1/hr)')\n",
    "ax.set_ylabel('Relaxation Rate (1/hr)')\n",
    "ax.set_title('Relaxation Rate vs. Sampling Rate')\n",
    "textstr = 'intercept = %.4f\\nslope = %.4f'%(intercept, slope)\n",
    "props = dict(facecolor='white')\n",
    "ax.text(0.05, 0.95, textstr, transform=ax.transAxes, fontsize=14,\n",
    "        verticalalignment='top', bbox=props)"
   ]
  }
 ],
 "metadata": {
  "kernelspec": {
   "display_name": "Python 2",
   "language": "python",
   "name": "python2"
  },
  "language_info": {
   "codemirror_mode": {
    "name": "ipython",
    "version": 2
   },
   "file_extension": ".py",
   "mimetype": "text/x-python",
   "name": "python",
   "nbconvert_exporter": "python",
   "pygments_lexer": "ipython2",
   "version": "2.7.11"
  }
 },
 "nbformat": 4,
 "nbformat_minor": 0
}
